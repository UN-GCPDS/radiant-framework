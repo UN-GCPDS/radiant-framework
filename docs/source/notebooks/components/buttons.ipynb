{
 "cells": [
  {
   "cell_type": "markdown",
   "metadata": {},
   "source": [
    "# Buttons"
   ]
  },
  {
   "cell_type": "markdown",
   "metadata": {},
   "source": [
    "## MDCButton"
   ]
  },
  {
   "cell_type": "markdown",
   "metadata": {},
   "source": [
    ".. brython::\n",
    "   from mdc.MDCButton import MDCButton;\n",
    "   ;\n",
    "   container <= MDCButton('Button', raised=False);\n",
    "   container <= MDCButton('Button raised', raised=True);\n",
    "   container <= MDCButton('Button outlined', raised=False, outlined=True);"
   ]
  },
  {
   "cell_type": "markdown",
   "metadata": {},
   "source": [
    "Icons can be included from [material-design-icons](https://material.io/resources/icons/) or [fontawesome](https://fontawesome.com/icons)"
   ]
  },
  {
   "cell_type": "markdown",
   "metadata": {},
   "source": [
    ".. brython::\n",
    "   from mdc.MDCButton import MDCButton;\n",
    "   ;\n",
    "   container <= MDCButton('Button', icon='home');\n",
    "   container <= MDCButton('Button', icon='fa-home');"
   ]
  },
  {
   "cell_type": "markdown",
   "metadata": {},
   "source": [
    "## MDCFab"
   ]
  },
  {
   "cell_type": "markdown",
   "metadata": {},
   "source": [
    ".. brython::\n",
    "   from mdc.MDCButton import MDCFab;\n",
    "   ;\n",
    "   container <= MDCFab('favorite');\n",
    "   container <= MDCFab('favorite', mini=True);\n",
    "   container <= MDCFab('add', label='Add entry');"
   ]
  },
  {
   "cell_type": "markdown",
   "metadata": {},
   "source": [
    "## MDCIconToggle"
   ]
  },
  {
   "cell_type": "markdown",
   "metadata": {},
   "source": [
    ".. brython::\n",
    "   from mdc.MDCButton import MDCIconToggle;\n",
    "   ;\n",
    "   container <= MDCIconToggle('favorite', 'favorite_border', state='off');\n",
    "   container <= MDCIconToggle('favorite', 'favorite_border', state='on');"
   ]
  }
 ],
 "metadata": {
  "kernelspec": {
   "display_name": "Python 3 (ipykernel)",
   "language": "python",
   "name": "python3"
  },
  "language_info": {
   "codemirror_mode": {
    "name": "ipython",
    "version": 3
   },
   "file_extension": ".py",
   "mimetype": "text/x-python",
   "name": "python",
   "nbconvert_exporter": "python",
   "pygments_lexer": "ipython3",
   "version": "3.10.5"
  }
 },
 "nbformat": 4,
 "nbformat_minor": 4
}
