{
 "cells": [
  {
   "cell_type": "markdown",
   "metadata": {},
   "source": [
    "# Buttons"
   ]
  },
  {
   "cell_type": "raw",
   "metadata": {
    "raw_mimetype": "text/restructuredtext",
    "tags": []
   },
   "source": [
    ".. brython::\n",
    "   import bootstrap as bs\n",
    "   \n",
    "   for accent in ['primary', 'secondary', 'success', 'danger', 'warning', 'info', 'light', 'dark', 'link']:\n",
    "       container <= bs.Button(accent.capitalize(), accent=accent)"
   ]
  },
  {
   "cell_type": "raw",
   "metadata": {
    "raw_mimetype": "text/restructuredtext",
    "tags": []
   },
   "source": [
    ".. brython::\n",
    "\n",
    "   import bootstrap as bs\n",
    "   \n",
    "   for tag in ['link', 'button', 'input', 'submit', 'reset']:\n",
    "       container <= bs.Button(tag.capitalize(), tag=tag)"
   ]
  },
  {
   "cell_type": "raw",
   "metadata": {
    "raw_mimetype": "text/restructuredtext",
    "tags": []
   },
   "source": [
    ".. brython::\n",
    "\n",
    "   import bootstrap as bs\n",
    "   \n",
    "   for accent in ['primary', 'secondary', 'success', 'danger', 'warning', 'info', 'light', 'dark', 'link']:\n",
    "       container <= bs.Button(accent.capitalize(), accent=accent, outline=True)"
   ]
  },
  {
   "cell_type": "raw",
   "metadata": {
    "raw_mimetype": "text/restructuredtext",
    "tags": []
   },
   "source": [
    ".. brython::\n",
    "\n",
    "   import bootstrap as bs\n",
    "   \n",
    "   for accent in ['primary', 'secondary', 'success', 'danger', 'warning', 'info', 'light', 'dark', 'link']:\n",
    "       container <= bs.Button(accent.capitalize(), accent=accent, small=True)"
   ]
  },
  {
   "cell_type": "raw",
   "metadata": {
    "raw_mimetype": "text/restructuredtext",
    "tags": []
   },
   "source": [
    ".. brython::\n",
    "\n",
    "   import bootstrap as bs\n",
    "   \n",
    "   for accent in ['primary', 'secondary', 'success', 'danger', 'warning', 'info', 'light', 'dark', 'link']:\n",
    "       container <= bs.Button(accent.capitalize(), accent=accent, disabled=True)"
   ]
  },
  {
   "cell_type": "markdown",
   "metadata": {},
   "source": [
    "# Button Group"
   ]
  },
  {
   "cell_type": "raw",
   "metadata": {
    "raw_mimetype": "text/restructuredtext",
    "tags": []
   },
   "source": [
    ".. brython::\n",
    "\n",
    "   import bootstrap as bs\n",
    "   \n",
    "   group = bs.ButtonGroup()\n",
    "   for i in range(5):\n",
    "       group <= bs.Button(f'Button {i}', 'primary')\n",
    "   container <= group"
   ]
  },
  {
   "cell_type": "raw",
   "metadata": {
    "raw_mimetype": "text/restructuredtext",
    "tags": []
   },
   "source": [
    ".. brython::\n",
    "\n",
    "   import bootstrap as bs\n",
    "   \n",
    "   group2 = bs.ButtonGroup()\n",
    "   for i in range(5):\n",
    "       group2.bs.add_button(f'Radio {i}', radio=True)\n",
    "   container <= group2"
   ]
  },
  {
   "cell_type": "raw",
   "metadata": {
    "raw_mimetype": "text/restructuredtext",
    "tags": []
   },
   "source": [
    ".. brython::\n",
    "\n",
    "   import bootstrap as bs\n",
    "   \n",
    "   group2 = bs.ButtonGroup()\n",
    "   for i in range(5):\n",
    "       group2.bs.add_button(f'CHeckbox {i}', checkbox=True)\n",
    "   container <= group2"
   ]
  },
  {
   "cell_type": "raw",
   "metadata": {
    "raw_mimetype": "text/restructuredtext",
    "tags": []
   },
   "source": [
    ".. brython::\n",
    "\n",
    "   import bootstrap as bs\n",
    "   \n",
    "   tb = bs.ButtonToolbar()\n",
    "   for j in range(2):\n",
    "       group2 = bs.ButtonGroup(style={'margin-right': '0.5rem'})\n",
    "       for i in range(3):\n",
    "           group2 <= bs.Button(f'Button {j}-{i}', 'primary')\n",
    "       tb <= group2\n",
    "   container <= tb"
   ]
  },
  {
   "cell_type": "raw",
   "metadata": {
    "raw_mimetype": "text/restructuredtext",
    "tags": []
   },
   "source": [
    ".. brython::\n",
    "\n",
    "   import bootstrap as bs\n",
    "   \n",
    "   group2 = bs.ButtonGroup(vertical=True)\n",
    "   for i in range(3):\n",
    "       group2.bs.add_button(f'Radio {i}', radio=True)\n",
    "   container <= group2"
   ]
  }
 ],
 "metadata": {
  "kernelspec": {
   "display_name": "Python 3 (ipykernel)",
   "language": "python",
   "name": "python3"
  },
  "language_info": {
   "codemirror_mode": {
    "name": "ipython",
    "version": 3
   },
   "file_extension": ".py",
   "mimetype": "text/x-python",
   "name": "python",
   "nbconvert_exporter": "python",
   "pygments_lexer": "ipython3",
   "version": "3.10.5"
  }
 },
 "nbformat": 4,
 "nbformat_minor": 4
}
