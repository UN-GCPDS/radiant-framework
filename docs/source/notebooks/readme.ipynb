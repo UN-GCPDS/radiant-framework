{
 "cells": [
  {
   "cell_type": "markdown",
   "metadata": {},
   "source": [
    "# Brython-Radiant\n",
    "\n",
    "A Brython Framework for Web Apps development.\n",
    "\n",
    "![GitHub top language](https://img.shields.io/github/languages/top/un-gcpds/brython-radiant?)\n",
    "![PyPI - License](https://img.shields.io/pypi/l/radiant?)\n",
    "![PyPI](https://img.shields.io/pypi/v/radiant?)\n",
    "![PyPI - Status](https://img.shields.io/pypi/status/radiant?)\n",
    "![PyPI - Python Version](https://img.shields.io/pypi/pyversions/radiant?)\n",
    "![GitHub last commit](https://img.shields.io/github/last-commit/un-gcpds/brython-radiant?)\n",
    "![CodeFactor Grade](https://img.shields.io/codefactor/grade/github/UN-GCPDS/brython-radiant?)\n",
    "[![Documentation Status](https://readthedocs.org/projects/radiant/badge/?version=latest)](https://radiant-framework.readthedocs.io/en/latest/?badge=latest)\n",
    "\n",
    "Radiant is a [Brython](https://brython.info/) framework for the quick development of web apps with pure Python/Brython syntax so there is no need to care about (if you don’t want) HTML, CSS, or Javascript. Run over [Tornado](https://www.tornadoweb.org/) servers and include support to [Websockets](notebooks/02-additional_features.ipynb#WebSockets), [Python Scripts](notebooks/02-additional_features.ipynb#Python-scripting) and [MDC](notebooks/02-additional_features.ipynb#Custom-themes)."
   ]
  },
  {
   "cell_type": "markdown",
   "metadata": {},
   "source": [
    "## Instalation"
   ]
  },
  {
   "cell_type": "code",
   "execution_count": null,
   "metadata": {},
   "outputs": [],
   "source": [
    "pip install radiant"
   ]
  },
  {
   "cell_type": "markdown",
   "metadata": {},
   "source": [
    "## Usage"
   ]
  },
  {
   "cell_type": "markdown",
   "metadata": {},
   "source": [
    "### Bare minimum"
   ]
  },
  {
   "cell_type": "code",
   "execution_count": null,
   "metadata": {},
   "outputs": [],
   "source": [
    "# Radiant modules\n",
    "from radiant.server import RadiantAPI\n",
    "\n",
    "# Brython modules\n",
    "from browser import document, html  # This modules are faked after `radiant` inport\n",
    "\n",
    "# Main class inheriting RadiantAPI\n",
    "class BareMinimum(RadiantAPI):\n",
    "\n",
    "    # Constructor \n",
    "    def __init__(self, *args, **kwargs):\n",
    "        super().__init__(*args, **kwargs)\n",
    "    \n",
    "        #-----------------------------------------------------------\n",
    "        # Brython code (finally)\n",
    "        document.select_one('body') <= html.H1('Hello World')\n",
    "        #\n",
    "        # ...all your brython code\n",
    "        #-----------------------------------------------------------\n",
    "\n",
    "# Run server\n",
    "if __name__ == '__main__':\n",
    "    BareMinimum()"
   ]
  },
  {
   "cell_type": "markdown",
   "metadata": {},
   "source": [
    "### Extra options"
   ]
  },
  {
   "cell_type": "code",
   "execution_count": null,
   "metadata": {},
   "outputs": [],
   "source": [
    "# Radiant modules\n",
    "from radiant.server import RadiantAPI, RadiantServer  # import RadiantServer for advanced options\n",
    "\n",
    "from browser import document, html\n",
    "\n",
    "# Main class inheriting RadiantAPI\n",
    "class BareMinimum(RadiantAPI):\n",
    "\n",
    "    def __init__(self, *args, **kwargs):\n",
    "        \"\"\"\"\"\"\n",
    "        super().__init__(*args, **kwargs)\n",
    "\n",
    "        #-----------------------------------------------------------\n",
    "        # Brython code\n",
    "        document.select_one('body') <= html.H1('Hello World')\n",
    "        #\n",
    "        # ...all your brython code\n",
    "        #-----------------------------------------------------------\n",
    "        \n",
    "if __name__ == '__main__':\n",
    "    # Advance options\n",
    "    RadiantServer('BareMinimum',\n",
    "                  host='localhost',\n",
    "                  port=5000,\n",
    "                  brython_version='3.9.1',\n",
    "                  debug_level=0,\n",
    "                  )"
   ]
  },
  {
   "cell_type": "markdown",
   "metadata": {},
   "source": [
    "## How to works\n",
    "\n",
    "This is basically a set of scripts that allows the same file run from _Python_ and _Brython_, when is running under _Python_ a [Tornado](https://www.tornadoweb.org/) server is created and configure the local path for serving static files, and a custom HTML template is configured in runtime to import the same script, this time under _Brython_, is very simple."
   ]
  }
 ],
 "metadata": {
  "kernelspec": {
   "display_name": "Python 3 (ipykernel)",
   "language": "python",
   "name": "python3"
  },
  "language_info": {
   "codemirror_mode": {
    "name": "ipython",
    "version": 3
   },
   "file_extension": ".py",
   "mimetype": "text/x-python",
   "name": "python",
   "nbconvert_exporter": "python",
   "pygments_lexer": "ipython3",
   "version": "3.10.1"
  }
 },
 "nbformat": 4,
 "nbformat_minor": 4
}
