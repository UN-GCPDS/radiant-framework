{
 "cells": [
  {
   "cell_type": "markdown",
   "metadata": {},
   "source": [
    "# Radiant Framework\n",
    "\n",
    "A Brython/PyScript Framework for Web Apps development.\n",
    "\n",
    "![GitHub top language](https://img.shields.io/github/languages/top/un-gcpds/brython-radiant?)\n",
    "![PyPI - License](https://img.shields.io/pypi/l/radiant?)\n",
    "![PyPI](https://img.shields.io/pypi/v/radiant?)\n",
    "![PyPI - Status](https://img.shields.io/pypi/status/radiant?)\n",
    "![PyPI - Python Version](https://img.shields.io/pypi/pyversions/radiant?)\n",
    "![GitHub last commit](https://img.shields.io/github/last-commit/un-gcpds/brython-radiant?)\n",
    "![CodeFactor Grade](https://img.shields.io/codefactor/grade/github/UN-GCPDS/brython-radiant?)\n",
    "[![Documentation Status](https://readthedocs.org/projects/radiant/badge/?version=latest)](https://radiant-framework.readthedocs.io/en/latest/?badge=latest)\n",
    "\n",
    "Radiant is a [Brython](https://brython.info/) and [PyScript](https://pyscript.net/) framework for the quick development of web apps using _Python_ syntax, so there is no need to care about (if you don’t want) HTML, CSS, or JavaScript. This is basically a set of scripts that allows the same file run from _Python_ and _Brython_/_PyScript_, when is running under _Python_ a [Tornado](https://www.tornadoweb.org/) server is created and configure the local path for serving static files, at the same time a custom HTML template is configured at runtime to import the same script, this time under _Brython_/_PyScript_."
   ]
  },
  {
   "cell_type": "markdown",
   "metadata": {},
   "source": [
    "## Instalation"
   ]
  },
  {
   "cell_type": "code",
   "execution_count": null,
   "metadata": {},
   "outputs": [],
   "source": [
    "pip install radiant"
   ]
  },
  {
   "cell_type": "markdown",
   "metadata": {},
   "source": [
    "## Brython: bare minimum"
   ]
  },
  {
   "cell_type": "code",
   "execution_count": null,
   "metadata": {},
   "outputs": [],
   "source": [
    "#!bryhton\n",
    "\n",
    "from radiant.server import RadiantAPI\n",
    "from browser import document, html\n",
    "\n",
    "\n",
    "class BareMinimum(RadiantAPI):\n",
    "\n",
    "    def __init__(self, *args, **kwargs):\n",
    "        \"\"\"\"\"\"\n",
    "        super().__init__(*args, **kwargs)\n",
    "        document.select_one('body') <= html.H1('Radiant-Framework')\n",
    "\n",
    "\n",
    "if __name__ == '__main__':\n",
    "    BareMinimum()"
   ]
  },
  {
   "cell_type": "markdown",
   "metadata": {},
   "source": [
    "## PyScript: bare minimum\n",
    "\n",
    "This example use a ```requirements.txt``` file to install dependencies."
   ]
  },
  {
   "cell_type": "code",
   "execution_count": null,
   "metadata": {},
   "outputs": [],
   "source": [
    "#requirements.txt\n",
    "\n",
    "numpy\n",
    "matplotlib"
   ]
  },
  {
   "cell_type": "code",
   "execution_count": null,
   "metadata": {},
   "outputs": [],
   "source": [
    "#!pyscript\n",
    "\n",
    "import numpy as np\n",
    "from matplotlib import pyplot as plt\n",
    "from radiant.server import RadiantAPI\n",
    "import js\n",
    "\n",
    "\n",
    "class BareMinimum(RadiantAPI):\n",
    "\n",
    "    def __init__(self):\n",
    "        print('Radiant-Framework')\n",
    "        self.plot()\n",
    "\n",
    "    def plot(self):\n",
    "        \"\"\"\"\"\"\n",
    "        fig = plt.figure()\n",
    "        ax = fig.add_subplot(111)\n",
    "        x = np.linspace(0, 10, 1000)\n",
    "        y = np.sin(x)\n",
    "        ax.plot(x, y)\n",
    "        js.document.body.prepend(self.fig2img(fig))\n",
    "\n",
    "\n",
    "if __name__ == '__main__':\n",
    "    BareMinimum()"
   ]
  },
  {
   "cell_type": "markdown",
   "metadata": {},
   "source": [
    "## Brython + PyScript"
   ]
  },
  {
   "cell_type": "code",
   "execution_count": null,
   "metadata": {},
   "outputs": [],
   "source": [
    "#!brython\n",
    "\n",
    "from radiant.server import RadiantAPI, pyscript\n",
    "from browser import document, html\n",
    "\n",
    "\n",
    "class BareMinimum(RadiantAPI):\n",
    "\n",
    "    def __init__(self, *args, **kwargs):\n",
    "        \"\"\"\"\"\"\n",
    "        super().__init__(*args, **kwargs)\n",
    "        document.select_one('body') <= html.H1('Radiant-Framework')\n",
    "\n",
    "        document.select_one('body') <= html.DIV(id='mpl')\n",
    "        self.plot_sin(f=5)  # will render on #mpl every time\n",
    "\n",
    "        document.select_one('body') <= self.plot_sinc(f=1)  \n",
    "\n",
    "        \n",
    "    # will render on #mpl every time\n",
    "    @pyscript(output='mpl')\n",
    "    def plot_sin(self, f=10):\n",
    "        \"\"\"\"\"\"\n",
    "        import numpy as np\n",
    "        from matplotlib import pyplot as plt\n",
    "\n",
    "        fig = plt.figure()\n",
    "        ax = fig.add_subplot(111)\n",
    "        x = np.linspace(0, 1, 1000)\n",
    "        y = np.sin(2 * np.pi * f * x)\n",
    "        ax.plot(x, y)\n",
    "\n",
    "        return fig\n",
    "\n",
    "    \n",
    "    # will return the image object\n",
    "    @pyscript()\n",
    "    def plot_sinc(self, f):\n",
    "        \"\"\"\"\"\"\n",
    "        import numpy as np\n",
    "        from matplotlib import pyplot as plt\n",
    "\n",
    "        fig = plt.figure()\n",
    "        ax = fig.add_subplot(111)\n",
    "        x = np.linspace(0, 10, 1000)\n",
    "        y = np.sin(2 * np.pi * f * x)\n",
    "        ax.plot(x, y, color='C1')\n",
    "\n",
    "        return fig\n",
    "\n",
    "\n",
    "if __name__ == '__main__':\n",
    "    BareMinimum()"
   ]
  }
 ],
 "metadata": {
  "kernelspec": {
   "display_name": "Python 3 (ipykernel)",
   "language": "python",
   "name": "python3"
  },
  "language_info": {
   "codemirror_mode": {
    "name": "ipython",
    "version": 3
   },
   "file_extension": ".py",
   "mimetype": "text/x-python",
   "name": "python",
   "nbconvert_exporter": "python",
   "pygments_lexer": "ipython3",
   "version": "3.10.7"
  }
 },
 "nbformat": 4,
 "nbformat_minor": 4
}
