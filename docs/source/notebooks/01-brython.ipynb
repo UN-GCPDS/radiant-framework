{
 "cells": [
  {
   "cell_type": "markdown",
   "metadata": {},
   "source": [
    "# Brython\n",
    "\n",
    "[Brython](https://www.brython.info/index.html) is designed to replace JavaScript as the scripting language for the Web. As such, it is a Python 3 implementation, adapted to the HTML5 environment, that is to say with an interface to the DOM objects and events."
   ]
  },
  {
   "cell_type": "markdown",
   "metadata": {},
   "source": [
    "Radiant allows to run Brython directly from a Python script, just like this:"
   ]
  },
  {
   "cell_type": "code",
   "execution_count": null,
   "metadata": {},
   "outputs": [],
   "source": [
    "from radiant.server import RadiantAPI\n",
    "from browser import document, html\n",
    "\n",
    "\n",
    "class BareMinimum(RadiantAPI):\n",
    "\n",
    "    def __init__(self, *args, **kwargs):\n",
    "        \"\"\"\"\"\"\n",
    "        super().__init__(*args, **kwargs)\n",
    "        document.select_one('body') <= html.H1('Radiant-Framework')\n",
    "\n",
    "\n",
    "if __name__ == '__main__':\n",
    "    BareMinimum()"
   ]
  },
  {
   "cell_type": "markdown",
   "metadata": {},
   "source": [
    "![](images/bare_minimum.png)"
   ]
  },
  {
   "cell_type": "markdown",
   "metadata": {},
   "source": [
    "## Multipage support"
   ]
  },
  {
   "cell_type": "code",
   "execution_count": null,
   "metadata": {},
   "outputs": [],
   "source": [
    "#main.py\n",
    "\n",
    "from radiant.server import RadiantAPI, RadiantServer\n",
    "from browser import document, html\n",
    "\n",
    "class BareMinimum(RadiantAPI):\n",
    "\n",
    "    def __init__(self, *args, **kwargs):\n",
    "        \"\"\"\"\"\"\n",
    "        super().__init__(*args, **kwargs)\n",
    "        document.select_one('body') <= html.H1('Hello World')\n",
    "        document.select_one('body') <= html.H1('Multipage support')\n",
    "        document.select_one('body') <= html.A('second page', href='/multipage')\n",
    "\n",
    "\n",
    "if __name__ == '__main__':\n",
    "    RadiantServer('BareMinimum',\n",
    "                  host='localhost',\n",
    "                  port=5000,\n",
    "                  brython_version='3.10.3',\n",
    "                  debug_level=0,\n",
    "                  pages=([r'^/multipage$', 'second_page.Second'],),\n",
    "                 )"
   ]
  },
  {
   "cell_type": "code",
   "execution_count": null,
   "metadata": {},
   "outputs": [],
   "source": [
    "#second_page.py\n",
    "\n",
    "from radiant.server import RadiantAPI\n",
    "from browser import document, html\n",
    "\n",
    "class Second(RadiantAPI):\n",
    "\n",
    "    def __init__(self, *args, **kwargs):\n",
    "        \"\"\"\"\"\"\n",
    "        super().__init__(*args, **kwargs)\n",
    "        document.select_one('body') <= html.H1('Multipage support')\n",
    "        document.select_one('body') <= html.A('home', href='/')"
   ]
  }
 ],
 "metadata": {
  "kernelspec": {
   "display_name": "Python 3 (ipykernel)",
   "language": "python",
   "name": "python3"
  },
  "language_info": {
   "codemirror_mode": {
    "name": "ipython",
    "version": 3
   },
   "file_extension": ".py",
   "mimetype": "text/x-python",
   "name": "python",
   "nbconvert_exporter": "python",
   "pygments_lexer": "ipython3",
   "version": "3.10.7"
  }
 },
 "nbformat": 4,
 "nbformat_minor": 4
}
