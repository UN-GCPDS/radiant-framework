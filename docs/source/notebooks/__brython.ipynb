{
 "cells": [
  {
   "cell_type": "markdown",
   "metadata": {},
   "source": [
    "# Additional features"
   ]
  },
  {
   "cell_type": "markdown",
   "metadata": {},
   "source": [
    "## WebSockets\n",
    "\n",
    "This WebSockets are in the Tornado side and **NOT** in Brython.  \n",
    "So, is basically and [WebSocketHandler](https://www.tornadoweb.org/en/stable/websocket.html) object like:"
   ]
  },
  {
   "cell_type": "code",
   "execution_count": null,
   "metadata": {},
   "outputs": [],
   "source": [
    "#ws_handler.py\n",
    "\n",
    "from tornado.websocket import WebSocketHandler\n",
    "\n",
    "class WSHandler(WebSocketHandler):\n",
    "\n",
    "    def open(self):\n",
    "        ...\n",
    "        \n",
    "    def on_close(self):\n",
    "        ...\n",
    "\n",
    "    def on_message(self, message):\n",
    "        ..."
   ]
  },
  {
   "cell_type": "markdown",
   "metadata": {},
   "source": [
    "That can be included with the `RadiantServer` class in the `websockethandler` argument:"
   ]
  },
  {
   "cell_type": "code",
   "execution_count": null,
   "metadata": {},
   "outputs": [],
   "source": [
    "RadiantServer('MainApp', websockethandler=('ws_handler.py', 'WSHandler'))"
   ]
  },
  {
   "cell_type": "markdown",
   "metadata": {},
   "source": [
    "This websocket will be serving on `/ws` URL."
   ]
  },
  {
   "cell_type": "markdown",
   "metadata": {},
   "source": [
    "## Python scripting\n",
    "\n",
    "This feature is to run a real Python environment through methods that return objects. make sure to inherit `PythonHandler`:"
   ]
  },
  {
   "cell_type": "code",
   "execution_count": null,
   "metadata": {},
   "outputs": [],
   "source": [
    "#python_foo.py\n",
    "\n",
    "from radiant import PythonHandler\n",
    "\n",
    "class MyClass(PythonHandler):\n",
    "\n",
    "    def local_python(self):\n",
    "        return \"This file are running from Local Python environment\"\n",
    "\n",
    "    def pitagoras(self, a, b):\n",
    "        return math.sqrt(a ** 2 + b ** 2)"
   ]
  },
  {
   "cell_type": "markdown",
   "metadata": {},
   "source": [
    "This handler can be included with the `RadiantServer` class in the `python` argument:"
   ]
  },
  {
   "cell_type": "code",
   "execution_count": null,
   "metadata": {},
   "outputs": [],
   "source": [
    "RadiantServer('MainApp', python=('python_foo.py', 'MyClass'))"
   ]
  },
  {
   "cell_type": "markdown",
   "metadata": {},
   "source": [
    "A full example of use could be:"
   ]
  },
  {
   "cell_type": "code",
   "execution_count": null,
   "metadata": {},
   "outputs": [],
   "source": [
    "from radiant import RadiantAPI, RadiantServer\n",
    "from browser import document, html\n",
    "\n",
    "class MainApp(RadiantAPI):\n",
    "\n",
    "    def __init__(self, *args, **kwargs):\n",
    "        super().__init__(*args, **kwargs)\n",
    "\n",
    "        document.select('body')[0] <= html.H1('Hello World')\n",
    "        document.select('body')[0] <= html.H3(self.MyClass.local_python())\n",
    "\n",
    "        a, b = 3, 5\n",
    "        c = self.MyClass.pitagoras(a, b)\n",
    "        document.select('body')[0] <= html.H3(f\"Pitagoras: {a=}, {b=}, {c=:.3f}\")\n",
    "\n",
    "if __name__ == '__main__':\n",
    "    RadiantServer('MainApp', python=('python_foo.py', 'MyClass'))"
   ]
  },
  {
   "cell_type": "markdown",
   "metadata": {},
   "source": [
    "## Custom themes\n",
    "\n",
    "Material themes from MDC can be configured with [https://material.io/resources/color/](https://material.io/resources/color/), just select the desired colors, save the file and add it to the `RadiantServer` class in the attribute `theme`."
   ]
  },
  {
   "cell_type": "code",
   "execution_count": null,
   "metadata": {},
   "outputs": [],
   "source": [
    "RadiantServer('MainApp', theme='custom_theme.xml')"
   ]
  }
 ],
 "metadata": {
  "kernelspec": {
   "display_name": "Python 3",
   "language": "python",
   "name": "python3"
  },
  "language_info": {
   "codemirror_mode": {
    "name": "ipython",
    "version": 3
   },
   "file_extension": ".py",
   "mimetype": "text/x-python",
   "name": "python",
   "nbconvert_exporter": "python",
   "pygments_lexer": "ipython3",
   "version": "3.9.6"
  }
 },
 "nbformat": 4,
 "nbformat_minor": 4
}
